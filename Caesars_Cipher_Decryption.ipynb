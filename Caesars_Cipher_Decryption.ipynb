{
 "cells": [
  {
   "cell_type": "code",
   "execution_count": 2,
   "id": "bb536d5c",
   "metadata": {},
   "outputs": [
    {
     "name": "stdout",
     "output_type": "stream",
     "text": [
      "Your decoded message: Nana\n"
     ]
    }
   ],
   "source": [
    "#Decryption / Decipher\n",
    "\n",
    "# Declare Variable Characters - Upper and Lower Case\n",
    "chars = ['ABCDEFGHIJKLMNOPQRSTUVWXYZ', 'abcdefghijklmnopqrstuvwxyz']\n",
    "\n",
    "# Define Function for Plain Text and Cipher - Using a Mapping Table with maketrans() and tranlate() functions\n",
    "def decode(message, offset):\n",
    "    dec_chars = str.maketrans(\n",
    "        f'{chars[0][offset:]}{chars[0][:offset]}{chars[1][offset:]}{chars[1][:offset]}', # Cipher text\n",
    "        f'{chars[0]}{chars[1]}' # Plain text message/ characters\n",
    "    )\n",
    "    return str.translate(message, dec_chars)\n",
    "\n",
    "# Set Inputs for Plain Text Message and Cipher/Shift value \n",
    "get_option = input(\"Choose [d]ecode : \")\n",
    "if get_option == 'd':\n",
    "    message = input('Enter your ciphertext message: ')\n",
    "    offset = int(input('Choose the shift (1-26): '))\n",
    "    if offset < 1 or offset > 26:\n",
    "        raise Exception(f'Invalid entry: {offset}')\n",
    "    else:\n",
    "        print(f'Your decoded message: {decode(message, offset)}')\n",
    "else:\n",
    "    raise Exception(f'Invalid option: {get_option}')"
   ]
  },
  {
   "cell_type": "code",
   "execution_count": null,
   "id": "b2fd65bf",
   "metadata": {},
   "outputs": [],
   "source": []
  }
 ],
 "metadata": {
  "kernelspec": {
   "display_name": "Python 3.10.6 64-bit",
   "language": "python",
   "name": "python3"
  },
  "language_info": {
   "codemirror_mode": {
    "name": "ipython",
    "version": 3
   },
   "file_extension": ".py",
   "mimetype": "text/x-python",
   "name": "python",
   "nbconvert_exporter": "python",
   "pygments_lexer": "ipython3",
   "version": "3.10.6"
  },
  "vscode": {
   "interpreter": {
    "hash": "2eb3aecfc0f041b72cb9deb102205402add041c9d403911877b9e5da3c5ab654"
   }
  }
 },
 "nbformat": 4,
 "nbformat_minor": 5
}
